{
 "cells": [
  {
   "cell_type": "code",
   "execution_count": null,
   "id": "897fe38a",
   "metadata": {},
   "outputs": [],
   "source": [
    "import numpy as np\n",
    "import pandas as pd\n",
    "import matplotlib.pyplot as plt\n",
    "import requests\n",
    "# from census import Census\n",
    "from us import states\n",
    "import json\n",
    "\n",
    "#pip istall only needs to be ran once then this code can be removed\n",
    "!pip install -U epiweeks\n",
    "import epiweeks as ew\n",
    "\n",
    "# Census API Key\n",
    "from config import api_key\n",
    "# c = Census(api_key)\n",
    "c = api_key"
   ]
  },
  {
   "cell_type": "code",
   "execution_count": null,
   "id": "b9bae00d",
   "metadata": {},
   "outputs": [],
   "source": [
    "#Disease CSV data: issues are traslating 'epiweek' column into a year, data frame will need to be shortened to only inlude years 2005-2010\n",
    "\n",
    "disease_df = pd.read_csv(\"diseases_us_1916_to_2011.csv\")\n",
    "\n",
    "disease_df['disease'].value_counts()"
   ]
  },
  {
   "cell_type": "code",
   "execution_count": null,
   "id": "45904b79",
   "metadata": {},
   "outputs": [],
   "source": [
    "disease_df[\"cases\"]=disease_df[\"cases\"].astype(str).replace(\"\\\\N\",np.nan)\n",
    "disease_df=disease_df.dropna(how=\"any\")\n",
    "disease_df['cases'] = disease_df[\"cases\"].astype(int)"
   ]
  },
  {
   "cell_type": "code",
   "execution_count": null,
   "id": "57b8b3cc",
   "metadata": {},
   "outputs": [],
   "source": [
    "#Convert epi_week column into week and years columns.\n",
    "disease_df['epi_week'] = disease_df['epi_week'].astype(str)\n",
    "disease_df['year'] = disease_df['epi_week'].str[0:4]\n",
    "disease_df['week'] = disease_df['epi_week'].str[4:6]\n",
    "disease_df"
   ]
  },
  {
   "cell_type": "code",
   "execution_count": null,
   "id": "74dec018",
   "metadata": {},
   "outputs": [],
   "source": [
    "\n",
    "short_disease_df = disease_df.loc[(disease_df['year']== '2010')|(disease_df['year']== '2009')|(disease_df['year']== '2008')|(disease_df['year']== '2007')|(disease_df['year']== '2006')]\n",
    "\n",
    "grouped_disease_df = short_disease_df.groupby(['year','state','disease',])\n",
    "clean_disease_df=pd.DataFrame(grouped_disease_df['cases'].sum())\n",
    "clean_disease_df"
   ]
  },
  {
   "cell_type": "code",
   "execution_count": null,
   "id": "4cf40d44",
   "metadata": {},
   "outputs": [],
   "source": [
    "years=['2006','2007','2008','2009','2010']\n",
    "All_data= {}\n",
    "for year in years:\n",
    "    try:\n",
    "        target_url = f\"https://api.census.gov/data/{year}/acs/acs1?get=NAME,B01003_001E,B19013_001E&for=state:*&key={api_key}\"\n",
    "        income_data = requests.get(target_url).json()\n",
    "        All_data.update({year:income_data})\n",
    "    except:\n",
    "        print ('not found')\n",
    "        \n",
    "All_data"
   ]
  },
  {
   "cell_type": "code",
   "execution_count": null,
   "id": "ab000a5d",
   "metadata": {},
   "outputs": [],
   "source": [
    "#reading the census Json data into a dataframe. issues include translating the state names into state abreviations to match the disease data frame, dropping the frst row, and renaming the columns\n",
    "# income_df = pd.DataFrame(All_data)\n",
    "\n",
    "income_df= pd.DataFrame()\n",
    "years=['2006','2007','2008','2009','2010']\n",
    "for year in years:\n",
    "    df= pd.DataFrame(All_data[year])\n",
    "    df['year']=year\n",
    "    df.drop(index=df.index[0],axis=0,inplace=True)\n",
    "    income_df=pd.concat([income_df,df])\n",
    "income_df.columns= ['state', 'population', 'household income', 'state num', 'year']\n",
    "income_df"
   ]
  },
  {
   "cell_type": "code",
   "execution_count": null,
   "id": "25e6e505",
   "metadata": {},
   "outputs": [],
   "source": [
    "\n",
    "income_df = income_df.replace({\n",
    "    'Alabama': 'AL',\n",
    "    'Alaska': 'AK',\n",
    "    'American Samoa': 'AS',\n",
    "    'Arizona': 'AZ',\n",
    "    'Arkansas': 'AR',\n",
    "    'California': 'CA',\n",
    "    'Colorado': 'CO',\n",
    "    'Connecticut': 'CT',\n",
    "    'Delaware': 'DE',\n",
    "    'District of Columbia': 'DC',\n",
    "    'Florida': 'FL',\n",
    "    'Georgia': 'GA',\n",
    "    'Guam': 'GU',\n",
    "    'Hawaii': 'HI',\n",
    "    'Idaho': 'ID',\n",
    "    'Illinois': 'IL',\n",
    "    'Indiana': 'IN',\n",
    "    'Iowa': 'IA',\n",
    "    'Kansas': 'KS',\n",
    "    'Kentucky': 'KY',\n",
    "    'Louisiana': 'LA',\n",
    "    'Maine': 'ME',\n",
    "    'Maryland': 'MD',\n",
    "    'Massachusetts': 'MA',\n",
    "    'Michigan': 'MI',\n",
    "    'Minnesota': 'MN',\n",
    "    'Mississippi': 'MS',\n",
    "    'Missouri': 'MO',\n",
    "    'Montana': 'MT',\n",
    "    'Nebraska': 'NE',\n",
    "    'Nevada': 'NV',\n",
    "    'New Hampshire': 'NH',\n",
    "    'New Jersey': 'NJ',\n",
    "    'New Mexico': 'NM',\n",
    "    'New York': 'NY',\n",
    "    'North Carolina': 'NC',\n",
    "    'North Dakota': 'ND',\n",
    "    'Northern Mariana Islands':'MP',\n",
    "    'Ohio': 'OH',\n",
    "    'Oklahoma': 'OK',\n",
    "    'Oregon': 'OR',\n",
    "    'Pennsylvania': 'PA',\n",
    "    'Puerto Rico': 'PR',\n",
    "    'Rhode Island': 'RI',\n",
    "    'South Carolina': 'SC',\n",
    "    'South Dakota': 'SD',\n",
    "    'Tennessee': 'TN',\n",
    "    'Texas': 'TX',\n",
    "    'Utah': 'UT',\n",
    "    'Vermont': 'VT',\n",
    "    'Virgin Islands': 'VI',\n",
    "    'Virginia': 'VA',\n",
    "    'Washington': 'WA',\n",
    "    'West Virginia': 'WV',\n",
    "    'Wisconsin': 'WI',\n",
    "    'Wyoming': 'WY'\n",
    "})"
   ]
  },
  {
   "cell_type": "code",
   "execution_count": null,
   "id": "b7358b80",
   "metadata": {},
   "outputs": [],
   "source": [
    "df_merged= pd.merge(disease_df,income_df,on=['state','year'],how='inner') \n",
    "df_merged['population'] = df_merged['population'].astype(int)\n",
    "df_merged['household income'] = df_merged['household income'].astype(int)\n",
    "df_merged"
   ]
  },
  {
   "cell_type": "code",
   "execution_count": 1,
   "id": "808858f4",
   "metadata": {},
   "outputs": [
    {
     "ename": "NameError",
     "evalue": "name 'df_merged' is not defined",
     "output_type": "error",
     "traceback": [
      "\u001b[1;31m---------------------------------------------------------------------------\u001b[0m",
      "\u001b[1;31mNameError\u001b[0m                                 Traceback (most recent call last)",
      "\u001b[1;32m<ipython-input-1-ac8ce1a93bbe>\u001b[0m in \u001b[0;36m<module>\u001b[1;34m\u001b[0m\n\u001b[1;32m----> 1\u001b[1;33m \u001b[0mgrouped_df\u001b[0m \u001b[1;33m=\u001b[0m \u001b[0mdf_merged\u001b[0m\u001b[1;33m.\u001b[0m\u001b[0mgroupby\u001b[0m\u001b[1;33m(\u001b[0m\u001b[1;33m[\u001b[0m\u001b[1;34m'year'\u001b[0m\u001b[1;33m,\u001b[0m\u001b[1;34m'state'\u001b[0m\u001b[1;33m,\u001b[0m\u001b[1;34m'disease'\u001b[0m\u001b[1;33m]\u001b[0m\u001b[1;33m)\u001b[0m\u001b[1;33m\u001b[0m\u001b[1;33m\u001b[0m\u001b[0m\n\u001b[0m\u001b[0;32m      2\u001b[0m \u001b[0mgrouped_df\u001b[0m\u001b[1;33m=\u001b[0m\u001b[0mpd\u001b[0m\u001b[1;33m.\u001b[0m\u001b[0mDataFrame\u001b[0m\u001b[1;33m(\u001b[0m\u001b[0mgrouped_df\u001b[0m\u001b[1;33m.\u001b[0m\u001b[0magg\u001b[0m\u001b[1;33m(\u001b[0m\u001b[1;33m{\u001b[0m\u001b[1;34m'cases'\u001b[0m\u001b[1;33m:\u001b[0m \u001b[1;34m'sum'\u001b[0m\u001b[1;33m,\u001b[0m \u001b[1;34m'population'\u001b[0m\u001b[1;33m:\u001b[0m \u001b[1;34m'mean'\u001b[0m\u001b[1;33m,\u001b[0m \u001b[1;34m'household income'\u001b[0m\u001b[1;33m:\u001b[0m\u001b[1;34m'mean'\u001b[0m\u001b[1;33m}\u001b[0m\u001b[1;33m)\u001b[0m\u001b[1;33m)\u001b[0m\u001b[1;33m\u001b[0m\u001b[1;33m\u001b[0m\u001b[0m\n\u001b[0;32m      3\u001b[0m \u001b[0mgrouped_df\u001b[0m\u001b[1;33m=\u001b[0m\u001b[0mgrouped_df\u001b[0m\u001b[1;33m.\u001b[0m\u001b[0mreset_index\u001b[0m\u001b[1;33m(\u001b[0m\u001b[1;33m)\u001b[0m\u001b[1;33m\u001b[0m\u001b[1;33m\u001b[0m\u001b[0m\n\u001b[0;32m      4\u001b[0m \u001b[1;33m\u001b[0m\u001b[0m\n\u001b[0;32m      5\u001b[0m \u001b[0mgrouped_df\u001b[0m\u001b[1;33m.\u001b[0m\u001b[0mloc\u001b[0m\u001b[1;33m[\u001b[0m\u001b[0mgrouped_df\u001b[0m\u001b[1;33m[\u001b[0m\u001b[1;34m'state'\u001b[0m\u001b[1;33m]\u001b[0m\u001b[1;33m==\u001b[0m\u001b[1;34m'AK'\u001b[0m\u001b[1;33m]\u001b[0m\u001b[1;33m\u001b[0m\u001b[1;33m\u001b[0m\u001b[0m\n",
      "\u001b[1;31mNameError\u001b[0m: name 'df_merged' is not defined"
     ]
    }
   ],
   "source": [
    "grouped_df = df_merged.groupby(['year','state','disease'])\n",
    "grouped_df=pd.DataFrame(grouped_df.agg({'cases': 'sum', 'population': 'mean', 'household income':'mean'}))\n",
    "grouped_df=grouped_df.reset_index()\n",
    "\n",
    "grouped_df.loc[grouped_df['state']=='AK']"
   ]
  },
  {
   "cell_type": "code",
   "execution_count": null,
   "id": "17ad3d4b",
   "metadata": {},
   "outputs": [],
   "source": []
  },
  {
   "cell_type": "code",
   "execution_count": null,
   "id": "cdd787fc",
   "metadata": {},
   "outputs": [],
   "source": []
  }
 ],
 "metadata": {
  "kernelspec": {
   "display_name": "Python 3",
   "language": "python",
   "name": "python3"
  },
  "language_info": {
   "codemirror_mode": {
    "name": "ipython",
    "version": 3
   },
   "file_extension": ".py",
   "mimetype": "text/x-python",
   "name": "python",
   "nbconvert_exporter": "python",
   "pygments_lexer": "ipython3",
   "version": "3.8.8"
  }
 },
 "nbformat": 4,
 "nbformat_minor": 5
}
