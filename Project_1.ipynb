{
 "cells": [
  {
   "cell_type": "code",
   "execution_count": 2,
   "metadata": {},
   "outputs": [
    {
     "ename": "SyntaxError",
     "evalue": "invalid syntax (<ipython-input-2-126c71e7c34c>, line 14)",
     "output_type": "error",
     "traceback": [
      "\u001b[1;36m  File \u001b[1;32m\"<ipython-input-2-126c71e7c34c>\"\u001b[1;36m, line \u001b[1;32m14\u001b[0m\n\u001b[1;33m    from \"../config\" import api_key\u001b[0m\n\u001b[1;37m         ^\u001b[0m\n\u001b[1;31mSyntaxError\u001b[0m\u001b[1;31m:\u001b[0m invalid syntax\n"
     ]
    }
   ],
   "source": [
    "import numpy as np\n",
    "import pandas as pd\n",
    "import matplotlib.pyplot as plt\n",
    "import requests\n",
    "from census import Census\n",
    "from us import states\n",
    "import json\n",
    "\n",
    "#pip istall only needs to be ran once then this code can be removed\n",
    "!pip install -U epiweeks\n",
    "import epiweeks as ew\n",
    "\n",
    "# Census API Key\n",
    "from config import api_key\n",
    "c = Census(api_key)"
   ]
  },
  {
   "cell_type": "code",
   "execution_count": null,
   "metadata": {},
   "outputs": [],
   "source": [
    "#Disease CSV data: issues are traslating 'epiweek' column into a year, data frame will need to be shortened to only inlude years 2005-2010\n",
    "\n",
    "disease_df = pd.read_csv(\"diseases_us_1916_to_2011.csv\")\n",
    "\n",
    "disease_df"
   ]
  },
  {
   "cell_type": "code",
   "execution_count": null,
   "metadata": {},
   "outputs": [],
   "source": [
    "# Disease CSV data: Issues with the 'cases' column being listed as an object when it should be an integer or float\n",
    "disease_df.dtypes"
   ]
  },
  {
   "cell_type": "code",
   "execution_count": null,
   "metadata": {},
   "outputs": [],
   "source": [
    "#Census Data: This is how to pull household income and populaton data from the ACS5 census using the pandas census module(group has decided we will probably not use this method):\n",
    "#Issues include having troube pulling multiple years as well as the state column coming in s a number rather than a state name.\n",
    "\n",
    "census_data = c.acs5.get((\"NAME\", \"B01003_001E\",\"B19013_001E\"), {'for': 'state:*'}, year=2010)\n",
    "\n",
    "# Convert to DataFrame\n",
    "census_pd = pd.DataFrame(census_data)\n",
    "\n",
    "# Column Reordering\n",
    "census_pd = census_pd.rename(columns={\"B01003_001E\": \"Population\",\n",
    "                                      \"B19013_001E\": \"Household Income\",\n",
    "                                      \"NAME\": \"Name\", \n",
    "                                      \"state\": \"State\"})\n",
    "\n",
    "census_pd = census_pd[[\"State\", \"Population\", \"Household Income\"]]\n",
    "print(len(census_pd))\n",
    "census_pd.head()"
   ]
  },
  {
   "cell_type": "code",
   "execution_count": null,
   "metadata": {},
   "outputs": [],
   "source": [
    "#Below is the alternate way to pull census income data from the ACS5 using the URL"
   ]
  },
  {
   "cell_type": "code",
   "execution_count": null,
   "metadata": {},
   "outputs": [],
   "source": [
    "year=2010\n",
    "target_url = f\"https://api.census.gov/data/{year}/acs/acs5?get=NAME,B01003_001E,B19013_001E&for=state:*&key={api_key}\"\n",
    "income_data = requests.get(target_url).json()"
   ]
  },
  {
   "cell_type": "code",
   "execution_count": null,
   "metadata": {},
   "outputs": [],
   "source": [
    "#print the Json data with formatting\n",
    "print(json.dumps(income_data, indent=4, sort_keys=True))"
   ]
  },
  {
   "cell_type": "code",
   "execution_count": null,
   "metadata": {},
   "outputs": [],
   "source": [
    "#reading the census Json data into a dataframe. issues include translating the state names into state abreviations to match the disease data frame, dropping the frst row, and renaming the columns\n",
    "Income_df = pd.DataFrame(income_data)\n",
    "Income_df "
   ]
  },
  {
   "cell_type": "code",
   "execution_count": null,
   "metadata": {},
   "outputs": [],
   "source": [
    "#Firt row dropped\n",
    "income_df.drop(index=income_df.index[0],axis=0,inplace=True)\n",
    "income_df"
   ]
  },
  {
   "cell_type": "code",
   "execution_count": null,
   "metadata": {},
   "outputs": [],
   "source": []
  }
 ],
 "metadata": {
  "kernelspec": {
   "display_name": "Python 3",
   "language": "python",
   "name": "python3"
  },
  "language_info": {
   "codemirror_mode": {
    "name": "ipython",
    "version": 3
   },
   "file_extension": ".py",
   "mimetype": "text/x-python",
   "name": "python",
   "nbconvert_exporter": "python",
   "pygments_lexer": "ipython3",
   "version": "3.8.5"
  }
 },
 "nbformat": 4,
 "nbformat_minor": 4
}
